{
 "cells": [
  {
   "cell_type": "code",
   "execution_count": 1,
   "metadata": {},
   "outputs": [],
   "source": [
    "import unittest\n",
    "import maboss\n",
    "import math"
   ]
  },
  {
   "cell_type": "code",
   "execution_count": 2,
   "metadata": {},
   "outputs": [],
   "source": [
    "class MaBoSSTestCase(unittest.TestCase):\n",
    "    \n",
    "    def __init__(self, sim, verbose = True):\n",
    "        unittest.TestCase.__init__(self)\n",
    "        self.Simulation = sim.copy()\n",
    "        self.Old_sim = (self.Simulation).copy()\n",
    "        self.Old_result = None \n",
    "        self.New_sim = (self.Simulation).copy()     \n",
    "        self.New_result = None\n",
    "        self.VERBOSE = verbose\n",
    "    \n",
    "    #call at the end of the tests\n",
    "    def Reset_simulations(self):\n",
    "        self.Old_sim = (self.Simulation).copy()\n",
    "        self.Old_result = None\n",
    "        self.New_sim = (self.Simulation).copy()\n",
    "        self.New_result = None\n",
    "    \n",
    "    \n",
    "    def Check_nodes(self, state):\n",
    "        for node in state:\n",
    "            if node not in self.Simulation.network.keys():\n",
    "                print(node, 'is not present in the network.')\n",
    "                return False\n",
    "        \n",
    "        return True\n",
    "    \n",
    "    \n",
    "    #set output for save time when you run a simulation   \n",
    "    def Set_output(self, output):\n",
    "        self.Old_sim.network.set_output(output)\n",
    "        self.New_sim.network.set_output(output)\n",
    "              \n",
    "        \n",
    "    def Set_initial_conditions(self, initial_conditions):\n",
    "        \n",
    "        if not initial_conditions: print('Care, you did not insert initial conditions!')\n",
    "        \n",
    "        if type(initial_conditions) is dict:\n",
    "            for node in initial_conditions:\n",
    "                self.Old_sim.network.set_istate(node, initial_conditions[node])\n",
    "                self.New_sim.network.set_istate(node, initial_conditions[node])\n",
    "        #input: list: list[0]=list of node, list[1] dictionary of prob        \n",
    "        elif type(initial_conditions) is list:\n",
    "            self.Old_sim.network.set_istate(initial_conditions[0], initial_conditions[1])\n",
    "            self.New_sim.network.set_istate(initial_conditions[0], initial_conditions[1])\n",
    "        \n",
    "        else: print('Invalid initial condition!')\n",
    "            \n",
    "        return\n",
    "    \n",
    "    \n",
    "    #mutate New_simulation if a list of mutations is given\n",
    "    def Mutate_simulation(self, mutations={}):\n",
    "        if mutations: \n",
    "            for n in mutations:\n",
    "                (self.New_sim).mutate(n,mutations[n])\n",
    "                \n",
    "        else: print('Care, you did not insert mutations!')\n",
    "            \n",
    "        \n",
    "    def Run_both_simulations(self):\n",
    "        self.Old_result = self.Old_sim.run()\n",
    "        self.New_result = self.New_sim.run()\n",
    "        \n",
    "    #return the states of a sim with their probability\n",
    "    def Get_probtraj_states(self, sim_name):\n",
    "        if sim_name == 'New': result = (self.New_result).get_last_states_probtraj()\n",
    "        elif sim_name == 'Old': result = (self.Old_result).get_last_states_probtraj()\n",
    "        \n",
    "        states = result.columns    \n",
    "        probability_states = {}  # dict----> key:probability  value:state in list form\n",
    "    \n",
    "        for state in states:\n",
    "            prob = result[state].values[0]\n",
    "            probability_states[prob] = state.split(' -- ')\n",
    "            \n",
    "        return probability_states\n",
    "    \n",
    "    #return the stable states of a sim with their probability\n",
    "    def Get_stable_states(self, sim_name):\n",
    "        if sim_name == 'New': s_states_table = self.New_result.get_fptable()\n",
    "        elif sim_name == 'Old': s_states_table = self.Old_result.get_fptable()\n",
    "            \n",
    "        s_states = s_states_table['State']\n",
    "        s_states = [state.split(' -- ') for state in s_states]\n",
    "        s_states_prob = s_states_table['Proba']\n",
    "        \n",
    "        probability_states = dict(zip(s_states_prob,s_states))\n",
    "        \n",
    "        return probability_states\n",
    "            \n",
    "    #return a dictionari with the states satisfing the condition with probability as key     \n",
    "    def Check_for_a_state(self, kind, condition={}, all_states={}):\n",
    "        \n",
    "        #check if I'm looking for <nil> state only for last prob traj :CHECK CASE IN WICH ALL STATES ARE 0\n",
    "        if ( kind == 'last' and all(i == 0 for i in condition.values()) ): \n",
    "            active_nodes = ['<nil>']\n",
    "            inactive_nodes = []\n",
    "        \n",
    "        else:\n",
    "            active_nodes = [x for x in condition if condition[x]==1]\n",
    "            inactive_nodes = [x for x in condition if condition[x]==0]\n",
    "        \n",
    "        resulting_states = all_states.copy()    #states that s\n",
    "        \n",
    "        for node in active_nodes:\n",
    "            resulting_states = {x: resulting_states[x] for x in resulting_states if node in resulting_states[x]}\n",
    "            \n",
    "        for node in inactive_nodes:\n",
    "            resulting_states = {x: resulting_states[x] for x in resulting_states if node not in resulting_states[x]}\n",
    "        \n",
    "        if resulting_states: return resulting_states  #if there is not match the probability is 0\n",
    "        else: return None #{0: condition}\n",
    "        \n",
    "        \n",
    "            \n",
    "    def Truncate(self, number, digits) -> float:\n",
    "        stepper = 10.0 ** digits\n",
    "        return math.trunc(stepper * number) / stepper\n",
    "    \n",
    "    #print the dictionary: prob_ state in a nice form\n",
    "    def Print_states(self, states):\n",
    "        if states == None: print('No one')\n",
    "        else:\n",
    "            for prob in states:\n",
    "                print('\\nProbability = ', prob, '\\nState: ', str(states[prob]))\n",
    "        \n",
    "        return\n",
    "    \n",
    "    \n",
    "    def Compare(self, Old_p, New_p, direction, message, digits):\n",
    "        Old_p = self.Truncate(Old_p, digits)\n",
    "        New_p = self.Truncate(New_p, digits)\n",
    "              \n",
    "        #INCREASE?\n",
    "        if direction == self.INCREASE: \n",
    "            try:\n",
    "                self.assertTrue(New_p > Old_p)\n",
    "                if self.VERBOSE: print(\"True! \", message)\n",
    "                else: print('... OK')\n",
    "            \n",
    "            except Exception as e:\n",
    "                if self.VERBOSE: print(\"False! \", message)\n",
    "                else: print(e)\n",
    "                \n",
    "        #DECREASE?   \n",
    "        elif direction == self.DECREASE:\n",
    "            try:\n",
    "                self.assertTrue(New_p < Old_p)\n",
    "                if self.VERBOSE: print(\"True! \", message)\n",
    "                else: print('... OK')\n",
    "            \n",
    "            except Exception as e:\n",
    "                if self.VERBOSE: print(\"False! \", message)\n",
    "                else: print(e)\n",
    "                \n",
    "        #STAY THE SAME?\n",
    "        elif direction == self.CHANGE: \n",
    "            try:\n",
    "                self.assertAlmostEqual(Old_p, New_p)\n",
    "                if self.VERBOSE: print(\"True! \", message)\n",
    "                else: print('... OK')\n",
    "            \n",
    "            except Exception as e:\n",
    "                if self.VERBOSE: print(\"False! \", message)\n",
    "                else: print(e)\n",
    "            \n",
    "           \n",
    "        return   \n",
    "    \n",
    "    \n",
    "    ##################################################################################################################\n",
    "    ############################################ ASSERTION FUNCTIONS #################################################\n",
    "    ##################################################################################################################\n",
    "    \n",
    "    \n",
    "    \n",
    "    def AssertStateProbability(self, mutations, I_C, state, direction, digits = 4):\n",
    "        \n",
    "        if not self.Check_nodes(state): return\n",
    "        \n",
    "        output = list(state.keys())\n",
    "        \n",
    "        self.Set_output(output)             #set the output for Old/New_sim \n",
    "        self.Set_initial_conditions(I_C)    #set initial conditions\n",
    "        self.Mutate_simulation(mutations)   #mutate New_sim\n",
    "        \n",
    "        self.Run_both_simulations()\n",
    "        \n",
    "        all_Old_states = self.Get_probtraj_states('Old')  #dict: key:stateProb  value:state (list form)\n",
    "        all_New_states = self.Get_probtraj_states('New')\n",
    "        \n",
    "        Old_states = self.Check_for_a_state('last', state, all_Old_states)  #there should be prob_state:state_list_form \n",
    "        New_states = self.Check_for_a_state('last', state, all_New_states)  #if prob is not 0  \n",
    "        \n",
    "        \n",
    "        if Old_states == None: Old_state_prob = 0\n",
    "        else: Old_state_prob = list(Old_states.keys())[0]                 #if possible invert keys and value\n",
    "            \n",
    "        if New_states == None: New_state_prob = 0\n",
    "        else: New_state_prob = list(New_states.keys())[0]\n",
    "        \n",
    "        #check it is all fine\n",
    "        if (Old_states != None and New_states != None and len(Old_states)!=1 and len(Old_states)!=1):\n",
    "            print('ERROR, TO MUTCH STATES')\n",
    "            return\n",
    "         \n",
    "        message = '\\nThe new probability of reaching the state is: {}' \\\n",
    "        ' \\nThe old one is: {} \\nThe comparison was made with {} digits'.format(New_state_prob, Old_state_prob, digits)\n",
    "        \n",
    "        self.Compare(Old_state_prob, New_state_prob, direction, message, digits) #ad an output!!!!!\n",
    "        \n",
    "        self.Reset_simulations()\n",
    "    \n",
    "        return\n",
    "    \n",
    "    \n",
    "    def AssertStableStateProbability(self, mutations, I_C, state, direction, digits = 4):\n",
    "         \n",
    "        if not self.Check_nodes(state): return\n",
    "        \n",
    "        self.Set_initial_conditions(I_C)    #set initial conditions\n",
    "        self.Mutate_simulation(mutations)   #mutate New_sim\n",
    "        \n",
    "        self.Run_both_simulations()\n",
    "        \n",
    "        all_Old_stable_states = self.Get_stable_states('Old')\n",
    "        all_New_stable_states = self.Get_stable_states('New')\n",
    "        \n",
    "        Old_states = self.Check_for_a_state('stable', state, all_Old_stable_states)\n",
    "        New_states = self.Check_for_a_state('stable', state, all_New_stable_states)     \n",
    "        \n",
    "        Old_state_prob = 0\n",
    "        if Old_states != None: \n",
    "            for prob in Old_states.keys():\n",
    "                Old_state_prob += prob\n",
    "        \n",
    "        New_state_prob = 0\n",
    "        if New_states != None: \n",
    "            for prob in New_states.keys():\n",
    "                New_state_prob += prob\n",
    "            \n",
    "        message = '\\nThe new probability of reaching the stable state is: {}' \\\n",
    "        ' \\nThe old one is: {} \\nThe comparison was made with {} digits'.format(New_state_prob, Old_state_prob, digits)\n",
    "        \n",
    "        self.Compare(Old_state_prob, New_state_prob, direction, message, digits)\n",
    "            \n",
    "        self.Reset_simulations()\n",
    "        \n",
    "        return\n",
    "    \n",
    "    \n",
    "    #NAME?????\n",
    "    #maBoss only find ss with prob >0?\n",
    "    #assert if given some condition (nodes dictionaries) other nodes has always the same values\n",
    "    def AssertStableStates(self, mutations, condition, nodes_expected):\n",
    "        \n",
    "        if not self.Check_nodes(condition): return\n",
    "        if not self.Check_nodes(nodes_expected): return\n",
    "        #for stable states don't need outputs\n",
    "        self.Mutate_simulation(mutations)   #mutate New_sim\n",
    "        \n",
    "        self.New_result = self.New_sim.run()\n",
    "        \n",
    "        all_stable_states = self.Get_stable_states('New')\n",
    "        #states satisfying the input condition\n",
    "        states_satisfying_condition = self.Check_for_a_state('stable', condition, all_stable_states)\n",
    "        #selected states satisfying both condition and nodes_expected\n",
    "        if states_satisfying_condition != None:\n",
    "            selected_states = self.Check_for_a_state('stable', nodes_expected, states_satisfying_condition)\n",
    "        \n",
    "        else:\n",
    "            print(\"Not even one stable state satisfy: \", condition)\n",
    "            return\n",
    "        \n",
    "        try:\n",
    "            self.assertEqual(states_satisfying_condition, selected_states)\n",
    "            if self.VERBOSE: print(\"True! \\nAll the states that satisfy: \", condition, \" have: \", nodes_expected)\n",
    "            else: print(\"... OK\")\n",
    "                \n",
    "        except Exception as e: \n",
    "            if self.VERBOSE: \n",
    "                print('False! \\nThe states with ', condition, ' are : ') \n",
    "                self.Print_states(states_satisfying_condition)\n",
    "                print('\\nOf these, those with ', nodes_expected, ' are: ')                        \n",
    "                self.Print_states(selected_states)                  \n",
    "                                         \n",
    "            else: print(e)\n",
    "            \n",
    "        \n",
    "        self.Reset_simulations()\n",
    "        \n",
    "        return\n",
    "    \n",
    "    \n",
    "    #IT IS CLEAR??\n",
    "    #compare the probability of reaching a state with prob (1 ask INCREASE, -1 DECREASE, 0 IS EQUAL)\n",
    "    def CompareStableStateProbability(self, mutations, state, direction, reference_prob = 0, digits = 4):\n",
    "         \n",
    "        if not self.Check_nodes(state): return    \n",
    "        \n",
    "        self.Mutate_simulation(mutations)          #mutate New_sim\n",
    "        \n",
    "        self.New_result = self.New_sim.run()\n",
    "        \n",
    "        all_New_stable_states = self.Get_stable_states('New')\n",
    "        \n",
    "        New_states = self.Check_for_a_state('stable', state, all_New_stable_states)     \n",
    "        \n",
    "        New_state_prob = 0\n",
    "        if New_states != None: \n",
    "            for prob in New_states.keys():\n",
    "                New_state_prob += prob\n",
    "            \n",
    "        message = '\\nThe probability of reaching the state is: {}'.format(New_state_prob)\n",
    "        print('The reference probability is: ', reference_prob)\n",
    "        self.Compare(reference_prob, New_state_prob, direction, message, digits)\n",
    "            \n",
    "        self.Reset_simulations()\n",
    "        \n",
    "        return\n",
    "        \n",
    "        \n",
    "        \n",
    "    INCREASE = 'increase'\n",
    "    DECREASE = 'decrease'\n",
    "    CHANGE = 'stable'                      #actually it is: does not change  \n",
    "    "
   ]
  },
  {
   "cell_type": "markdown",
   "metadata": {},
   "source": [
    "# Lympho test"
   ]
  },
  {
   "cell_type": "code",
   "execution_count": 3,
   "metadata": {},
   "outputs": [],
   "source": [
    "fast_sim = maboss.load(\"Four_cycle.bnd\", \"Four_cycle_FEscape.cfg\")"
   ]
  },
  {
   "cell_type": "code",
   "execution_count": 4,
   "metadata": {},
   "outputs": [],
   "source": [
    "test_fast_sim = MaBoSSTestCase(fast_sim)"
   ]
  },
  {
   "cell_type": "markdown",
   "metadata": {},
   "source": [
    "# Functions:\n",
    "\n",
    "## AssertStateProbability(mutations, I_C, state, direction, digits = 4):\n",
    "Assert if a mutation alter the state probability to be active, pass as arguments:\n",
    "\n",
    "* mutations: dictionary of mutations\n",
    "* I_C: initial condiotin: dictionary {node: [p, 1-p]} or list: [ [node1, node2], {proba_dict} ] as in Maboss\n",
    "* state (the state you want to observe): dictionary of nodes; 1 if active 0 if inactive\n",
    "* direction: increase/decrease/stable\n",
    "* number of digits keep in the approximation\n",
    "\n",
    "## AssertStableStateProbability(mutations, I_C, state, direction, digits = 4):\n",
    "Assert if a mutation alter the state probability to be active, pass as arguments:\n",
    "* mutations: dictionary of mutations\n",
    "* I_C: initial condiotin: dictionary {node: [p, 1-p]} or list: [ [node1, node2], {proba_dict} ] as in Maboss\n",
    "* state (the state you want to observe): dictionary of nodes; 1 if active 0 if inactive\n",
    "* direction: increase/decrease/stable\n",
    "* number of digits keep in the approximation\n",
    "\n",
    "## AssertStableStates(mutations, condition, nodes_expected):\n",
    "Check if all states satisfying a condition present the expected state for some given nodes:\n",
    "* mutations: dictionary of mutations\n",
    "* condition of the states you are looking for: dictionary of nodes; 1 if active 0 if inactive\n",
    "* state of nodes in the states satifyng the condition: dictionary of nodes; 1 if active 0 if inactive\n",
    "\n",
    "\n",
    "## CompareStableStateProbability(mutations, state, direction, reference_prob = 0, digits = 4):\n",
    "compare the probability to reach a state with a given probability (0 default):\n",
    "* mutations: dictionary of mutations\n",
    "* state (the state you want to observe): dictionary of nodes; 1 if active 0 if inactive\n",
    "* direction: increase/decrease/stable\n",
    "* reference_prob: the probability to compare \n",
    "* number of digits keep in the approximation"
   ]
  },
  {
   "cell_type": "markdown",
   "metadata": {},
   "source": [
    "# Examples: \n",
    "## AssertStateProbability()"
   ]
  },
  {
   "cell_type": "code",
   "execution_count": 5,
   "metadata": {},
   "outputs": [
    {
     "name": "stdout",
     "output_type": "stream",
     "text": [
      "Care, you did not insert initial conditions!\n",
      "True!  \n",
      "The new probability of reaching the state is: 0 \n",
      "The old one is: 0.0022 \n",
      "The comparison was made with 4 digits\n"
     ]
    }
   ],
   "source": [
    "test_fast_sim.AssertStateProbability({'A':'OFF'}, {}, {'A':1}, 'decrease')"
   ]
  },
  {
   "cell_type": "code",
   "execution_count": 6,
   "metadata": {},
   "outputs": [
    {
     "name": "stdout",
     "output_type": "stream",
     "text": [
      "False!  \n",
      "The new probability of reaching the state is: 0 \n",
      "The old one is: 0.0022 \n",
      "The comparison was made with 4 digits\n"
     ]
    }
   ],
   "source": [
    "test_fast_sim.AssertStateProbability({'A':'OFF'}, {'A': [1,0]}, {'A':1}, 'increase')"
   ]
  },
  {
   "cell_type": "code",
   "execution_count": 7,
   "metadata": {},
   "outputs": [
    {
     "name": "stdout",
     "output_type": "stream",
     "text": [
      "Care, you did not insert initial conditions!\n",
      "True!  \n",
      "The new probability of reaching the state is: 1.0 \n",
      "The old one is: 0.004 \n",
      "The comparison was made with 4 digits\n"
     ]
    }
   ],
   "source": [
    "test_fast_sim.AssertStateProbability({'B':'ON','A':'OFF'}, {}, {'C':1}, 'increase' )"
   ]
  },
  {
   "cell_type": "code",
   "execution_count": 8,
   "metadata": {},
   "outputs": [
    {
     "name": "stdout",
     "output_type": "stream",
     "text": [
      "Care, you did not insert initial conditions!\n",
      "Care, you did not insert mutations!\n",
      "True!  \n",
      "The new probability of reaching the state is: 0.001 \n",
      "The old one is: 0.001 \n",
      "The comparison was made with 4 digits\n"
     ]
    }
   ],
   "source": [
    "test_fast_sim.AssertStateProbability({}, {}, {'A':1, 'B':1, 'C':1}, 'stable')"
   ]
  },
  {
   "cell_type": "markdown",
   "metadata": {},
   "source": [
    "## AssertStableStateProbability()"
   ]
  },
  {
   "cell_type": "code",
   "execution_count": 18,
   "metadata": {},
   "outputs": [
    {
     "name": "stdout",
     "output_type": "stream",
     "text": [
      "Azefz is not present in the network.\n"
     ]
    }
   ],
   "source": [
    "test_fast_sim.AssertStableStateProbability({'A':'OFF'}, {}, {'A':1}, 'decrease')"
   ]
  },
  {
   "cell_type": "code",
   "execution_count": 10,
   "metadata": {},
   "outputs": [
    {
     "name": "stdout",
     "output_type": "stream",
     "text": [
      "False!  \n",
      "The new probability of reaching the stable state is: 0 \n",
      "The old one is: 0 \n",
      "The comparison was made with 4 digits\n"
     ]
    }
   ],
   "source": [
    "test_fast_sim.AssertStableStateProbability({'A':'OFF'}, {'A': [1,0]}, {'A':1}, 'increase')"
   ]
  },
  {
   "cell_type": "code",
   "execution_count": 11,
   "metadata": {},
   "outputs": [
    {
     "name": "stdout",
     "output_type": "stream",
     "text": [
      "Care, you did not insert initial conditions!\n",
      "True!  \n",
      "The new probability of reaching the stable state is: 1 \n",
      "The old one is: 0 \n",
      "The comparison was made with 4 digits\n"
     ]
    }
   ],
   "source": [
    "test_fast_sim.AssertStableStateProbability({'B':'ON','A':'OFF'}, {}, {'C':1}, 'increase' )"
   ]
  },
  {
   "cell_type": "code",
   "execution_count": 12,
   "metadata": {},
   "outputs": [
    {
     "name": "stdout",
     "output_type": "stream",
     "text": [
      "Care, you did not insert initial conditions!\n",
      "Care, you did not insert mutations!\n",
      "True!  \n",
      "The new probability of reaching the stable state is: 0 \n",
      "The old one is: 0 \n",
      "The comparison was made with 4 digits\n"
     ]
    }
   ],
   "source": [
    "test_fast_sim.AssertStableStateProbability({}, {}, {'A':1, 'B':1, 'C':1}, 'stable')"
   ]
  },
  {
   "cell_type": "markdown",
   "metadata": {},
   "source": [
    "## AssertStableStates(mutations, condition, nodes_expected):"
   ]
  },
  {
   "cell_type": "code",
   "execution_count": 13,
   "metadata": {},
   "outputs": [
    {
     "name": "stdout",
     "output_type": "stream",
     "text": [
      "Care, you did not insert mutations!\n",
      "True! \n",
      "All the states that satisfy:  {'A': 0}  have:  {'B': 0}\n"
     ]
    }
   ],
   "source": [
    "test_fast_sim.AssertStableStates({}, {'A':0}, {'B':0} )"
   ]
  },
  {
   "cell_type": "code",
   "execution_count": 14,
   "metadata": {},
   "outputs": [
    {
     "name": "stdout",
     "output_type": "stream",
     "text": [
      "Care, you did not insert mutations!\n",
      "Not even one stable state satisfy:  {'A': 1}\n"
     ]
    }
   ],
   "source": [
    "test_fast_sim.AssertStableStates({}, {'A':1}, {'B':0} )"
   ]
  },
  {
   "cell_type": "code",
   "execution_count": 15,
   "metadata": {},
   "outputs": [
    {
     "name": "stdout",
     "output_type": "stream",
     "text": [
      "Care, you did not insert mutations!\n",
      "False! \n",
      "The states with  {'A': 0}  are : \n",
      "\n",
      "Probability =  0.9962 \n",
      "State:  ['<nil>']\n",
      "\n",
      "Of these, those with  {'B': 1}  are: \n",
      "No one\n"
     ]
    }
   ],
   "source": [
    "test_fast_sim.AssertStableStates({}, {'A':0}, {'B':1} )"
   ]
  },
  {
   "cell_type": "code",
   "execution_count": 16,
   "metadata": {},
   "outputs": [
    {
     "name": "stdout",
     "output_type": "stream",
     "text": [
      "False! \n",
      "The states with  {'A': 0}  are : \n",
      "\n",
      "Probability =  1 \n",
      "State:  ['B', 'C']\n",
      "\n",
      "Of these, those with  {'B': 1, 'C': 0}  are: \n",
      "No one\n"
     ]
    }
   ],
   "source": [
    "test_fast_sim.AssertStableStates({'B':'ON','A':'OFF'}, {'A':0}, {'B':1, 'C':0})"
   ]
  },
  {
   "cell_type": "markdown",
   "metadata": {},
   "source": [
    "## CompareStableStateProbability(mutations, state, direction, reference_prob = 0, digits = 4)"
   ]
  },
  {
   "cell_type": "code",
   "execution_count": 17,
   "metadata": {},
   "outputs": [
    {
     "name": "stdout",
     "output_type": "stream",
     "text": [
      "The reference probability is:  0.5\n",
      "False!  \n",
      "The probability of reaching the state is: 0\n"
     ]
    }
   ],
   "source": [
    "test_fast_sim.CompareStableStateProbability({'B':'ON','A':'OFF'}, {'B':0}, 'stable', reference_prob = 0.5)"
   ]
  },
  {
   "cell_type": "code",
   "execution_count": null,
   "metadata": {},
   "outputs": [],
   "source": []
  },
  {
   "cell_type": "code",
   "execution_count": null,
   "metadata": {},
   "outputs": [],
   "source": []
  }
 ],
 "metadata": {
  "kernelspec": {
   "display_name": "Python 3",
   "language": "python",
   "name": "python3"
  },
  "language_info": {
   "codemirror_mode": {
    "name": "ipython",
    "version": 3
   },
   "file_extension": ".py",
   "mimetype": "text/x-python",
   "name": "python",
   "nbconvert_exporter": "python",
   "pygments_lexer": "ipython3",
   "version": "3.7.4"
  }
 },
 "nbformat": 4,
 "nbformat_minor": 2
}
