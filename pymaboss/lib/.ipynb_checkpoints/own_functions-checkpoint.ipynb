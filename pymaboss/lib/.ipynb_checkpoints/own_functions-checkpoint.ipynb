{
 "cells": [
  {
   "cell_type": "code",
   "execution_count": null,
   "metadata": {
    "collapsed": true
   },
   "outputs": [],
   "source": [
    "# Functions\n",
    "import maboss\n",
    "import numpy as np\n",
    "import pandas as pd\n",
    "import matplotlib.pyplot as plt\n",
    "\n",
    "def barplot_last_nodes_probtraj_selected(df,sel_nodes): \n",
    "    last_nodes=df.get_last_nodes_probtraj()\n",
    "    truthvals=df.get_last_nodes_probtraj().columns.str.contains(str.join(\"|\",sel_nodes))\n",
    "    last_nodes=last_nodes.loc[:,truthvals]\n",
    "    plt.barh(np.arange(len(last_nodes.columns)),last_nodes.values[0],tick_label=last_nodes.columns)\n",
    "    return last_nodes\n",
    "\n",
    "# any number of inputs\n",
    "def fcn_truthval_states(df,string_cellfates):\n",
    "    truth_vals=[0]*len(string_cellfates)\n",
    "    for n in range(0,len(string_cellfates),1):\n",
    "        truth_vals[n]=df.columns.str.contains(string_cellfates[n])\n",
    "    return truth_vals\n",
    "\n",
    "# plot cell fate dynamics\n",
    "def plot_cell_fates(df,str_plotname,plot_pars,list_truthval,list_labels,save_flag):\n",
    "    plt.figure(figsize=(plot_pars[0],plot_pars[1])); fontsize_val=plot_pars[2]; \n",
    "    plot_name=model_name+str_plotname; linewidth_val=plot_pars[3]\n",
    "    for n in range(0,len(list_labels),1):\n",
    "        plt.plot(np.sum(df.loc[:,list_truthval[n]],axis=1),label=list_labels[n],linewidth=linewidth_val)\n",
    "    plt.xlabel(\"time\",fontsize=fontsize_val); plt.ylabel(\"probability\",fontsize=fontsize_val);\n",
    "    plt.title(plot_name,fontsize=fontsize_val); \n",
    "    plt.legend(bbox_to_anchor=(1.04,0.5),loc=\"center left\",borderaxespad=0,fontsize=fontsize_val)\n",
    "    plt.ylim(0,plot_pars[4])\n",
    "    if save_flag:\n",
    "        plt.savefig(\"figures/\"+plot_name+\".png\",bbox_inches='tight')\n",
    "    if len(plot_pars)>5:\n",
    "        plt.xlim(0,plot_pars[5])\n",
    "\n",
    "def plot_node_dynamics(maboss_results_object,nodes_string,fig_pars): \n",
    "    nodes_probtraj_df=pd.DataFrame(maboss_results_object.get_nodes_probtraj())\n",
    "    col_inds=nodes_probtraj_df.columns.str.contains('|'.join(nodes_string),case=False)\n",
    "    nodes_probtraj_df.loc[:,col_inds].plot(linewidth=fig_pars[0])\n",
    "    fig_nodetraj=plt.gcf(); fig_nodetraj.set_size_inches(fig_pars[1],fig_pars[2])\n",
    "    plt.legend(bbox_to_anchor=(1.04,0.5), loc=\"center left\", borderaxespad=0)\n",
    "    plt.xlabel(fig_pars[3]); plt.ylabel(fig_pars[4]); \n",
    "    if len(fig_pars)>5:\n",
    "        plt.xlim(0,fig_pars[5])\n",
    "\n",
    "# plot states with prob larger than x\n",
    "def plot_states_larger_prob_x(maboss_results_object,x,fig_pars):\n",
    "    states_probtraj=maboss_results_object.get_states_probtraj()\n",
    "    states_probtraj.loc[:,(np.sum(states_probtraj>x)>0) & \\\n",
    "                        (states_probtraj.columns!='<nil>')].plot(linewidth=fig_pars[0])\n",
    "    fig_statetraj=plt.gcf(); fig_statetraj.set_size_inches(10,6);\n",
    "    plt.legend(bbox_to_anchor=(1.04,0.5),loc=\"center left\",borderaxespad=0)\n",
    "    fig_statetraj=plt.gcf(); fig_statetraj.set_size_inches(fig_pars[1],fig_pars[2])\n",
    "    plt.xlabel(fig_pars[3]); plt.ylabel(fig_pars[4])\n",
    "    if len(fig_pars)>5:\n",
    "        plt.xlim(0,fig_pars[5])\n"
   ]
  }
 ],
 "metadata": {
  "kernelspec": {
   "display_name": "Python 3",
   "language": "python",
   "name": "python3"
  },
  "language_info": {
   "codemirror_mode": {
    "name": "ipython",
    "version": 3
   },
   "file_extension": ".py",
   "mimetype": "text/x-python",
   "name": "python",
   "nbconvert_exporter": "python",
   "pygments_lexer": "ipython3",
   "version": "3.6.4"
  }
 },
 "nbformat": 4,
 "nbformat_minor": 2
}
