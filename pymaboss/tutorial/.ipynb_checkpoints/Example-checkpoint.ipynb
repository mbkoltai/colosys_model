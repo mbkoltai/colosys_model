{
 "cells": [
  {
   "cell_type": "markdown",
   "metadata": {},
   "source": [
    "# Example of workflow\n",
    "Here, we reproduce some results obtained in [This article](http://journals.plos.org/ploscompbiol/article?id=10.1371/journal.pcbi.1004571). We start from the .zginml model that can be downloaded [here](https://doi.org/10.1371/journal.pcbi.1004571.s017) (SuppMat_models/SuppMat_Model_Master_Model.zginml)"
   ]
  },
  {
   "cell_type": "code",
   "execution_count": 14,
   "metadata": {
    "collapsed": true
   },
   "outputs": [],
   "source": [
    "import maboss\n",
    "import ginsim\n",
    "import pypint"
   ]
  },
  {
   "cell_type": "markdown",
   "metadata": {},
   "source": [
    "### Loading the model in the api\n",
    "Go to MaBoSS -> load network (zginml format). And replace the argument of the first function by the loaction of you .zginml file."
   ]
  },
  {
   "cell_type": "code",
   "execution_count": 15,
   "metadata": {
    "collapsed": true
   },
   "outputs": [],
   "source": [
    "m = ginsim.load(\"Master_Model.zginml\")\n",
    "master_simulation = ginsim.to_maboss(m)"
   ]
  },
  {
   "cell_type": "markdown",
   "metadata": {},
   "source": [
    "### Setting the simulation parameters\n",
    "#### Setting initial states\n",
    "To quickly modify the initial states of several nodes, you can use the widgets `wg_set_istate`. Go to MaBoSS -> network -> set istate."
   ]
  },
  {
   "cell_type": "code",
   "execution_count": 16,
   "metadata": {
    "collapsed": true
   },
   "outputs": [],
   "source": [
    "# maboss.wg_set_istate(master_simulation)\n",
    "maboss.set_nodes_istate(master_simulation, [\"GF\", \"TGFbeta\", \"Metastasis\"], [0,1])"
   ]
  },
  {
   "cell_type": "code",
   "execution_count": 17,
   "metadata": {
    "collapsed": true
   },
   "outputs": [],
   "source": [
    "# maboss.wg_set_istate(master_simulation.network)\n",
    "nodes = ('Metastasis', 'Migration', 'Invasion', 'EMT', 'Apoptosis', 'CellCycleArrest', 'p21', 'CDH1', 'CDH2', \n",
    "         'VIM', 'TWIST1', 'SNAI1', 'SNAI2', 'ZEB1', 'ZEB2', 'AKT1', 'DKK1', 'CTNNB1', 'NICD', \n",
    "         'p63', 'p53', 'p73', 'miR200', 'miR203', 'miR34', 'AKT2', 'ERK', 'SMAD')\n",
    "istate = [1, 0]\n",
    "for nd in nodes:\n",
    "    master_simulation.network.set_istate(nd, istate)"
   ]
  },
  {
   "cell_type": "code",
   "execution_count": 18,
   "metadata": {
    "collapsed": true
   },
   "outputs": [],
   "source": [
    "#maboss.wg_set_istate(master_simulation.network)\n",
    "nodes = ('ECMicroenv', 'DNAdamage', 'GF', 'TGFbeta')\n",
    "istate = [0.5, 0.5]\n",
    "for nd in nodes:\n",
    "    master_simulation.network.set_istate(nd, istate)"
   ]
  },
  {
   "cell_type": "code",
   "execution_count": 19,
   "metadata": {
    "collapsed": true
   },
   "outputs": [],
   "source": [
    "#maboss.wg_set_istate(master_simulation.network)\n",
    "nodes = ('miR200', 'miR203', 'miR34')\n",
    "istate = [0, 1]\n",
    "for nd in nodes:\n",
    "    master_simulation.network.set_istate(nd, istate)"
   ]
  },
  {
   "cell_type": "markdown",
   "metadata": {},
   "source": [
    "#### Setting output\n",
    "You can use the widget `wg_set_output` to set the output of the simulation (MaBoSS -> Simulation -> Set output)."
   ]
  },
  {
   "cell_type": "code",
   "execution_count": 20,
   "metadata": {
    "collapsed": true
   },
   "outputs": [],
   "source": [
    "#maboss.wg_set_output(master_simulation)\n",
    "maboss.set_output(master_simulation, [\"ECMicroenv\", \"DNAdamage\", \"TGFbeta\"])"
   ]
  },
  {
   "cell_type": "code",
   "execution_count": 21,
   "metadata": {
    "collapsed": true
   },
   "outputs": [],
   "source": [
    "#maboss.wg_set_output(master_simulation)\n",
    "master_simulation.network.set_output(('Metastasis', 'Migration', 'Invasion', 'EMT', 'Apoptosis', 'CellCycleArrest'))"
   ]
  },
  {
   "cell_type": "markdown",
   "metadata": {},
   "source": [
    "#### Setting other parameters\n",
    "To modify other parameters of the simulation, you can use the method `update_parameters` of the simulation object."
   ]
  },
  {
   "cell_type": "code",
   "execution_count": 22,
   "metadata": {
    "collapsed": true
   },
   "outputs": [],
   "source": [
    "master_simulation.update_parameters(discrete_time=0, use_physrandgen=0,\n",
    "                                    seed_pseudorandom=100, sample_count=500,\n",
    "                                    max_time=50, time_tick=0.1, thread_count=4,\n",
    "                                    statdist_traj_count=100, statdist_cluster_threshold=0.9)"
   ]
  },
  {
   "cell_type": "markdown",
   "metadata": {},
   "source": [
    "## Running simulation\n",
    "Running the simulation will create a `Result` object that holds the results of the simulation. You can quickly write the line below by going to MaBoSS -> Simulation -> run"
   ]
  },
  {
   "cell_type": "code",
   "execution_count": 23,
   "metadata": {
    "collapsed": true
   },
   "outputs": [],
   "source": [
    "master_results = master_simulation.run()"
   ]
  },
  {
   "cell_type": "code",
   "execution_count": 24,
   "metadata": {},
   "outputs": [
    {
     "data": {
      "text/plain": [
       "<bound method ProbTrajResult.get_last_states_probtraj of <maboss.result.Result object at 0x7f68dbff5160>>"
      ]
     },
     "execution_count": 24,
     "metadata": {},
     "output_type": "execute_result"
    }
   ],
   "source": [
    "master_results.get_last_states_probtraj"
   ]
  },
  {
   "cell_type": "code",
   "execution_count": 25,
   "metadata": {},
   "outputs": [
    {
     "data": {
      "image/png": "[encoded data removed]",
      "text/plain": [
       "<matplotlib.figure.Figure at 0x7f68dbfa1e80>"
      ]
     },
     "metadata": {},
     "output_type": "display_data"
    }
   ],
   "source": [
    "fig = master_results.plot_piechart()\n",
    "fig"
   ]
  },
  {
   "cell_type": "code",
   "execution_count": 26,
   "metadata": {},
   "outputs": [
    {
     "data": {
      "image/png": "[encoded data removed]",
      "text/plain": [
       "<matplotlib.figure.Figure at 0x7f68dbff52e8>"
      ]
     },
     "metadata": {},
     "output_type": "display_data"
    }
   ],
   "source": [
    "master_results.plot_node_trajectory()"
   ]
  },
  {
   "cell_type": "code",
   "execution_count": 27,
   "metadata": {},
   "outputs": [
    {
     "data": {
      "text/markdown": [
       "1 state(s) have been registered: initState_1"
      ],
      "text/plain": [
       "<IPython.core.display.Markdown object>"
      ]
     },
     "metadata": {},
     "output_type": "display_data"
    }
   ],
   "source": [
    "model = pypint.load(\"Master_Model.zginml\")"
   ]
  },
  {
   "cell_type": "code",
   "execution_count": 28,
   "metadata": {},
   "outputs": [
    {
     "ename": "AttributeError",
     "evalue": "module 'ipywidgets' has no attribute 'network'",
     "output_type": "error",
     "traceback": [
      "\u001b[0;31m---------------------------------------------------------------------------\u001b[0m",
      "\u001b[0;31mAttributeError\u001b[0m                            Traceback (most recent call last)",
      "\u001b[0;32m<ipython-input-28-cdd668ecbc36>\u001b[0m in \u001b[0;36m<module>\u001b[0;34m()\u001b[0m\n\u001b[0;32m----> 1\u001b[0;31m \u001b[0mmaboss\u001b[0m\u001b[0;34m.\u001b[0m\u001b[0mwidgets\u001b[0m\u001b[0;34m.\u001b[0m\u001b[0mnetwork\u001b[0m\u001b[0;34m.\u001b[0m\u001b[0mwg_transfer_istate\u001b[0m\u001b[0;34m(\u001b[0m\u001b[0mmaster_simulation\u001b[0m\u001b[0;34m.\u001b[0m\u001b[0mnetwork\u001b[0m\u001b[0;34m,\u001b[0m \u001b[0mmodel\u001b[0m\u001b[0;34m)\u001b[0m\u001b[0;34m\u001b[0m\u001b[0m\n\u001b[0m",
      "\u001b[0;31mAttributeError\u001b[0m: module 'ipywidgets' has no attribute 'network'"
     ]
    }
   ],
   "source": [
    "maboss.widgets.network.wg_transfer_istate(master_simulation.network, model)"
   ]
  },
  {
   "cell_type": "code",
   "execution_count": 21,
   "metadata": {},
   "outputs": [
    {
     "data": {
      "text/markdown": [
       "This computation is an *under-approximation*: returned mutations are all valid, but they may be non-minimal, and some solutions may be missed."
      ],
      "text/plain": [
       "<IPython.core.display.Markdown object>"
      ]
     },
     "metadata": {},
     "output_type": "display_data"
    },
    {
     "data": {
      "text/markdown": [
       "Limiting solutions to mutations of at most 5 automata. Use `maxsize` argument to change."
      ],
      "text/plain": [
       "<IPython.core.display.Markdown object>"
      ]
     },
     "metadata": {},
     "output_type": "display_data"
    },
    {
     "data": {
      "text/plain": [
       "[{'Migration': 0},\n",
       " {'Invasion': 0},\n",
       " {'EMT': 0},\n",
       " {'CDH1': 1},\n",
       " {'CDH2': 0},\n",
       " {'CDH2': 1},\n",
       " {'VIM': 0},\n",
       " {'TWIST1': 0},\n",
       " {'AKT1': 1},\n",
       " {'DKK1': 1},\n",
       " {'CTNNB1': 0},\n",
       " {'p63': 1},\n",
       " {'p53': 1},\n",
       " {'miR200': 1},\n",
       " {'miR203': 1},\n",
       " {'miR34': 1},\n",
       " {'AKT2': 0},\n",
       " {'ERK': 0}]"
      ]
     },
     "execution_count": 21,
     "metadata": {},
     "output_type": "execute_result"
    }
   ],
   "source": [
    "model.oneshot_mutations_for_cut(Metastasis=1, exclude={\"DNAdamage\", \"ECMicroenv\"})"
   ]
  },
  {
   "cell_type": "code",
   "execution_count": 22,
   "metadata": {},
   "outputs": [
    {
     "data": {
      "text/html": [
       "<div>\n",
       "<style scoped>\n",
       "    .dataframe tbody tr th:only-of-type {\n",
       "        vertical-align: middle;\n",
       "    }\n",
       "\n",
       "    .dataframe tbody tr th {\n",
       "        vertical-align: top;\n",
       "    }\n",
       "\n",
       "    .dataframe thead th {\n",
       "        text-align: right;\n",
       "    }\n",
       "</style>\n",
       "<table border=\"1\" class=\"dataframe\">\n",
       "  <thead>\n",
       "    <tr style=\"text-align: right;\">\n",
       "      <th></th>\n",
       "      <th>FP</th>\n",
       "      <th>Proba</th>\n",
       "      <th>State</th>\n",
       "      <th>ECMicroenv</th>\n",
       "      <th>DNAdamage</th>\n",
       "      <th>GF</th>\n",
       "      <th>CDH1</th>\n",
       "      <th>CDH2</th>\n",
       "      <th>CTNNB1</th>\n",
       "      <th>NICD</th>\n",
       "      <th>...</th>\n",
       "      <th>miR34</th>\n",
       "      <th>Apoptosis</th>\n",
       "      <th>p21</th>\n",
       "      <th>miR203</th>\n",
       "      <th>CellCycleArrest</th>\n",
       "      <th>TWIST1</th>\n",
       "      <th>SNAI1</th>\n",
       "      <th>SNAI2</th>\n",
       "      <th>ZEB1</th>\n",
       "      <th>DKK1</th>\n",
       "    </tr>\n",
       "  </thead>\n",
       "  <tbody>\n",
       "    <tr>\n",
       "      <th>0</th>\n",
       "      <td>#1</td>\n",
       "      <td>0.250</td>\n",
       "      <td>CDH1</td>\n",
       "      <td>0</td>\n",
       "      <td>0</td>\n",
       "      <td>0</td>\n",
       "      <td>1</td>\n",
       "      <td>0</td>\n",
       "      <td>0</td>\n",
       "      <td>0</td>\n",
       "      <td>...</td>\n",
       "      <td>0</td>\n",
       "      <td>0</td>\n",
       "      <td>0</td>\n",
       "      <td>0</td>\n",
       "      <td>0</td>\n",
       "      <td>0</td>\n",
       "      <td>0</td>\n",
       "      <td>0</td>\n",
       "      <td>0</td>\n",
       "      <td>0</td>\n",
       "    </tr>\n",
       "    <tr>\n",
       "      <th>1</th>\n",
       "      <td>#2</td>\n",
       "      <td>0.098</td>\n",
       "      <td>DNAdamage -- CDH1 -- p63 -- miR200 -- p73 -- A...</td>\n",
       "      <td>0</td>\n",
       "      <td>1</td>\n",
       "      <td>0</td>\n",
       "      <td>1</td>\n",
       "      <td>0</td>\n",
       "      <td>0</td>\n",
       "      <td>0</td>\n",
       "      <td>...</td>\n",
       "      <td>0</td>\n",
       "      <td>1</td>\n",
       "      <td>1</td>\n",
       "      <td>0</td>\n",
       "      <td>1</td>\n",
       "      <td>0</td>\n",
       "      <td>0</td>\n",
       "      <td>0</td>\n",
       "      <td>0</td>\n",
       "      <td>0</td>\n",
       "    </tr>\n",
       "    <tr>\n",
       "      <th>2</th>\n",
       "      <td>#3</td>\n",
       "      <td>0.144</td>\n",
       "      <td>ECMicroenv -- DNAdamage -- CDH1 -- TGFbeta -- ...</td>\n",
       "      <td>1</td>\n",
       "      <td>1</td>\n",
       "      <td>0</td>\n",
       "      <td>1</td>\n",
       "      <td>0</td>\n",
       "      <td>0</td>\n",
       "      <td>0</td>\n",
       "      <td>...</td>\n",
       "      <td>0</td>\n",
       "      <td>1</td>\n",
       "      <td>1</td>\n",
       "      <td>0</td>\n",
       "      <td>1</td>\n",
       "      <td>0</td>\n",
       "      <td>0</td>\n",
       "      <td>0</td>\n",
       "      <td>0</td>\n",
       "      <td>0</td>\n",
       "    </tr>\n",
       "    <tr>\n",
       "      <th>3</th>\n",
       "      <td>#4</td>\n",
       "      <td>0.118</td>\n",
       "      <td>DNAdamage -- CDH1 -- miR200 -- p53 -- Apoptosi...</td>\n",
       "      <td>0</td>\n",
       "      <td>1</td>\n",
       "      <td>0</td>\n",
       "      <td>1</td>\n",
       "      <td>0</td>\n",
       "      <td>0</td>\n",
       "      <td>0</td>\n",
       "      <td>...</td>\n",
       "      <td>0</td>\n",
       "      <td>1</td>\n",
       "      <td>1</td>\n",
       "      <td>1</td>\n",
       "      <td>1</td>\n",
       "      <td>0</td>\n",
       "      <td>0</td>\n",
       "      <td>0</td>\n",
       "      <td>0</td>\n",
       "      <td>0</td>\n",
       "    </tr>\n",
       "    <tr>\n",
       "      <th>4</th>\n",
       "      <td>#5</td>\n",
       "      <td>0.124</td>\n",
       "      <td>ECMicroenv -- DNAdamage -- CDH1 -- TGFbeta -- ...</td>\n",
       "      <td>1</td>\n",
       "      <td>1</td>\n",
       "      <td>0</td>\n",
       "      <td>1</td>\n",
       "      <td>0</td>\n",
       "      <td>0</td>\n",
       "      <td>0</td>\n",
       "      <td>...</td>\n",
       "      <td>0</td>\n",
       "      <td>1</td>\n",
       "      <td>1</td>\n",
       "      <td>1</td>\n",
       "      <td>1</td>\n",
       "      <td>0</td>\n",
       "      <td>0</td>\n",
       "      <td>0</td>\n",
       "      <td>0</td>\n",
       "      <td>0</td>\n",
       "    </tr>\n",
       "    <tr>\n",
       "      <th>5</th>\n",
       "      <td>#6</td>\n",
       "      <td>0.008</td>\n",
       "      <td>GF -- CDH2 -- EMT -- VIM -- AKT2 -- ERK -- ZEB...</td>\n",
       "      <td>0</td>\n",
       "      <td>0</td>\n",
       "      <td>1</td>\n",
       "      <td>0</td>\n",
       "      <td>1</td>\n",
       "      <td>0</td>\n",
       "      <td>0</td>\n",
       "      <td>...</td>\n",
       "      <td>0</td>\n",
       "      <td>0</td>\n",
       "      <td>0</td>\n",
       "      <td>0</td>\n",
       "      <td>1</td>\n",
       "      <td>1</td>\n",
       "      <td>1</td>\n",
       "      <td>1</td>\n",
       "      <td>1</td>\n",
       "      <td>0</td>\n",
       "    </tr>\n",
       "    <tr>\n",
       "      <th>6</th>\n",
       "      <td>#7</td>\n",
       "      <td>0.008</td>\n",
       "      <td>DNAdamage -- GF -- CDH2 -- EMT -- VIM -- AKT2 ...</td>\n",
       "      <td>0</td>\n",
       "      <td>1</td>\n",
       "      <td>1</td>\n",
       "      <td>0</td>\n",
       "      <td>1</td>\n",
       "      <td>0</td>\n",
       "      <td>0</td>\n",
       "      <td>...</td>\n",
       "      <td>0</td>\n",
       "      <td>0</td>\n",
       "      <td>0</td>\n",
       "      <td>0</td>\n",
       "      <td>1</td>\n",
       "      <td>1</td>\n",
       "      <td>1</td>\n",
       "      <td>1</td>\n",
       "      <td>1</td>\n",
       "      <td>0</td>\n",
       "    </tr>\n",
       "    <tr>\n",
       "      <th>7</th>\n",
       "      <td>#8</td>\n",
       "      <td>0.244</td>\n",
       "      <td>ECMicroenv -- GF -- CDH2 -- NICD -- TGFbeta --...</td>\n",
       "      <td>1</td>\n",
       "      <td>0</td>\n",
       "      <td>1</td>\n",
       "      <td>0</td>\n",
       "      <td>1</td>\n",
       "      <td>0</td>\n",
       "      <td>1</td>\n",
       "      <td>...</td>\n",
       "      <td>0</td>\n",
       "      <td>0</td>\n",
       "      <td>0</td>\n",
       "      <td>0</td>\n",
       "      <td>1</td>\n",
       "      <td>1</td>\n",
       "      <td>1</td>\n",
       "      <td>1</td>\n",
       "      <td>1</td>\n",
       "      <td>1</td>\n",
       "    </tr>\n",
       "    <tr>\n",
       "      <th>8</th>\n",
       "      <td>#9</td>\n",
       "      <td>0.006</td>\n",
       "      <td>ECMicroenv -- DNAdamage -- GF -- CDH2 -- NICD ...</td>\n",
       "      <td>1</td>\n",
       "      <td>1</td>\n",
       "      <td>1</td>\n",
       "      <td>0</td>\n",
       "      <td>1</td>\n",
       "      <td>0</td>\n",
       "      <td>1</td>\n",
       "      <td>...</td>\n",
       "      <td>0</td>\n",
       "      <td>0</td>\n",
       "      <td>0</td>\n",
       "      <td>0</td>\n",
       "      <td>1</td>\n",
       "      <td>1</td>\n",
       "      <td>1</td>\n",
       "      <td>1</td>\n",
       "      <td>1</td>\n",
       "      <td>1</td>\n",
       "    </tr>\n",
       "  </tbody>\n",
       "</table>\n",
       "<p>9 rows × 35 columns</p>\n",
       "</div>"
      ],
      "text/plain": [
       "   FP  Proba                                              State  ECMicroenv  \\\n",
       "0  #1  0.250                                               CDH1           0   \n",
       "1  #2  0.098  DNAdamage -- CDH1 -- p63 -- miR200 -- p73 -- A...           0   \n",
       "2  #3  0.144  ECMicroenv -- DNAdamage -- CDH1 -- TGFbeta -- ...           1   \n",
       "3  #4  0.118  DNAdamage -- CDH1 -- miR200 -- p53 -- Apoptosi...           0   \n",
       "4  #5  0.124  ECMicroenv -- DNAdamage -- CDH1 -- TGFbeta -- ...           1   \n",
       "5  #6  0.008  GF -- CDH2 -- EMT -- VIM -- AKT2 -- ERK -- ZEB...           0   \n",
       "6  #7  0.008  DNAdamage -- GF -- CDH2 -- EMT -- VIM -- AKT2 ...           0   \n",
       "7  #8  0.244  ECMicroenv -- GF -- CDH2 -- NICD -- TGFbeta --...           1   \n",
       "8  #9  0.006  ECMicroenv -- DNAdamage -- GF -- CDH2 -- NICD ...           1   \n",
       "\n",
       "   DNAdamage  GF  CDH1  CDH2  CTNNB1  NICD  ...   miR34  Apoptosis  p21  \\\n",
       "0          0   0     1     0       0     0  ...       0          0    0   \n",
       "1          1   0     1     0       0     0  ...       0          1    1   \n",
       "2          1   0     1     0       0     0  ...       0          1    1   \n",
       "3          1   0     1     0       0     0  ...       0          1    1   \n",
       "4          1   0     1     0       0     0  ...       0          1    1   \n",
       "5          0   1     0     1       0     0  ...       0          0    0   \n",
       "6          1   1     0     1       0     0  ...       0          0    0   \n",
       "7          0   1     0     1       0     1  ...       0          0    0   \n",
       "8          1   1     0     1       0     1  ...       0          0    0   \n",
       "\n",
       "   miR203  CellCycleArrest  TWIST1  SNAI1  SNAI2  ZEB1  DKK1  \n",
       "0       0                0       0      0      0     0     0  \n",
       "1       0                1       0      0      0     0     0  \n",
       "2       0                1       0      0      0     0     0  \n",
       "3       1                1       0      0      0     0     0  \n",
       "4       1                1       0      0      0     0     0  \n",
       "5       0                1       1      1      1     1     0  \n",
       "6       0                1       1      1      1     1     0  \n",
       "7       0                1       1      1      1     1     1  \n",
       "8       0                1       1      1      1     1     1  \n",
       "\n",
       "[9 rows x 35 columns]"
      ]
     },
     "execution_count": 22,
     "metadata": {},
     "output_type": "execute_result"
    }
   ],
   "source": [
    "master_results.get_fptable()"
   ]
  },
  {
   "cell_type": "code",
   "execution_count": 23,
   "metadata": {},
   "outputs": [
    {
     "data": {
      "image/png": "[encoded data removed]",
      "text/plain": [
       "<matplotlib.figure.Figure at 0x7fc6e10200f0>"
      ]
     },
     "metadata": {},
     "output_type": "display_data"
    }
   ],
   "source": [
    "master_results.plot_fixpoint()"
   ]
  },
  {
   "cell_type": "code",
   "execution_count": 24,
   "metadata": {
    "collapsed": true
   },
   "outputs": [],
   "source": [
    "netw = master_simulation.network"
   ]
  },
  {
   "cell_type": "code",
   "execution_count": 25,
   "metadata": {},
   "outputs": [
    {
     "data": {
      "text/plain": [
       "'@logic ? $u_p53 : 0'"
      ]
     },
     "execution_count": 25,
     "metadata": {},
     "output_type": "execute_result"
    }
   ],
   "source": [
    "netw['p53'].rt_up"
   ]
  },
  {
   "cell_type": "code",
   "execution_count": 26,
   "metadata": {},
   "outputs": [
    {
     "data": {
      "text/plain": [
       "'1'"
      ]
     },
     "execution_count": 26,
     "metadata": {},
     "output_type": "execute_result"
    }
   ],
   "source": [
    "master_simulation.param['$u_p53']"
   ]
  },
  {
   "cell_type": "code",
   "execution_count": 9,
   "metadata": {
    "collapsed": true
   },
   "outputs": [],
   "source": [
    "# master_results.get_nodes_probtraj()"
   ]
  },
  {
   "cell_type": "code",
   "execution_count": 10,
   "metadata": {
    "collapsed": true
   },
   "outputs": [],
   "source": [
    "# master_results.get_states_probtraj()"
   ]
  },
  {
   "cell_type": "code",
   "execution_count": 29,
   "metadata": {
    "collapsed": true
   },
   "outputs": [],
   "source": [
    "#maboss.wg_make_mutant(master_simulation)\n",
    "genes = ('p53',)\n",
    "p53_down_simulation = master_simulation.copy()\n",
    "for gene in genes:\n",
    "    p53_down_simulation.mutate(gene, \"OFF\")"
   ]
  },
  {
   "cell_type": "code",
   "execution_count": 23,
   "metadata": {
    "collapsed": true
   },
   "outputs": [],
   "source": [
    "#p53_results = p53_down_simulation.run()"
   ]
  },
  {
   "cell_type": "code",
   "execution_count": 30,
   "metadata": {},
   "outputs": [
    {
     "name": "stdout",
     "output_type": "stream",
     "text": [
      "Node p53 {\n",
      "\n",
      "\tlogic = (!DNAdamage & !SNAI2 & !AKT1 & !CTNNB1 & !NICD & !p73 & miR34 & !AKT2) | (!DNAdamage & !SNAI2 & !AKT1 & !CTNNB1 & NICD & !p73 & !AKT2) | (!DNAdamage & !SNAI2 & !AKT1 & CTNNB1 & !p73 & !AKT2) | (DNAdamage & !SNAI2 & !AKT1 & !p73 & !AKT2);\n",
      "\trate_up = $Low_p53 ? 0 : ($High_p53 ? 1E308/$nb_mutable : (@logic ? $u_p53 : 0));\n",
      "\trate_down = $High_p53 ? 0 : ($Low_p53 ? 1E308/$nb_mutable : (@logic ? 0 : $d_p53));\n",
      "}\n"
     ]
    }
   ],
   "source": [
    "print(p53_down_simulation.network['p53'])"
   ]
  },
  {
   "cell_type": "code",
   "execution_count": 37,
   "metadata": {
    "collapsed": true,
    "scrolled": true
   },
   "outputs": [],
   "source": [
    "new_sim = master_simulation # .copy_results(master_results)"
   ]
  },
  {
   "cell_type": "code",
   "execution_count": 38,
   "metadata": {
    "collapsed": true
   },
   "outputs": [],
   "source": [
    "new_results = new_sim.run()"
   ]
  },
  {
   "cell_type": "code",
   "execution_count": 28,
   "metadata": {},
   "outputs": [
    {
     "data": {
      "image/png": "[encoded data removed]",
      "text/plain": [
       "<matplotlib.figure.Figure at 0x7f7785a892e8>"
      ]
     },
     "execution_count": 28,
     "metadata": {},
     "output_type": "execute_result"
    }
   ],
   "source": [
    "new_results.plot_node_trajectory()"
   ]
  },
  {
   "cell_type": "code",
   "execution_count": null,
   "metadata": {
    "collapsed": true
   },
   "outputs": [],
   "source": []
  },
  {
   "cell_type": "code",
   "execution_count": null,
   "metadata": {
    "collapsed": true
   },
   "outputs": [],
   "source": []
  }
 ],
 "metadata": {
  "kernelspec": {
   "display_name": "Python 3",
   "language": "python",
   "name": "python3"
  },
  "language_info": {
   "codemirror_mode": {
    "name": "ipython",
    "version": 3
   },
   "file_extension": ".py",
   "mimetype": "text/x-python",
   "name": "python",
   "nbconvert_exporter": "python",
   "pygments_lexer": "ipython3",
   "version": "3.7.7"
  }
 },
 "nbformat": 4,
 "nbformat_minor": 2
}
